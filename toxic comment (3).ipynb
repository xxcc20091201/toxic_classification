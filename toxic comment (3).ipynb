{
 "cells": [
  {
   "cell_type": "code",
   "execution_count": 1,
   "metadata": {},
   "outputs": [],
   "source": [
    "## import corresponding python lib\n",
    "import numpy as np\n",
    "import pandas as pd\n",
    "import seaborn as sbn\n",
    "import matplotlib.pyplot as plt\n",
    "import matplotlib.gridspec as gridspec\n",
    "import re\n",
    "import string\n",
    "from sklearn.feature_extraction.text import TfidfVectorizer\n",
    "import nltk\n",
    "from nltk.tokenize import TweetTokenizer \n",
    "from nltk.stem.wordnet import WordNetLemmatizer \n",
    "from nltk.corpus import stopwords\n",
    "from urllib import request\n",
    "import time\n",
    "import matplotlib_venn as venn\n",
    "from sklearn.linear_model import LogisticRegression\n",
    "from sklearn.model_selection import cross_val_score\n",
    "from sklearn.metrics import roc_auc_score\n",
    "from scipy.sparse import hstack\n",
    "from sklearn.model_selection import GridSearchCV"
   ]
  },
  {
   "cell_type": "code",
   "execution_count": 2,
   "metadata": {},
   "outputs": [],
   "source": [
    "#Load dataset\n",
    "train_data = pd.read_csv(\"data/train.csv\")\n",
    "test_data = pd.read_csv(\"data/test.csv\")\n",
    "class_names = [\"toxic\", \"severe_toxic\", \"obscene\", \"threat\", \"insult\", \"identity_hate\"]"
   ]
  },
  {
   "cell_type": "markdown",
   "metadata": {},
   "source": [
    "# Data Analyze\n"
   ]
  },
  {
   "cell_type": "code",
   "execution_count": 2,
   "metadata": {},
   "outputs": [],
   "source": [
    "#Load dataset -- floydhub\n",
    "#from textblob import TextBlob\n",
    "train_data = pd.read_csv(\"../input/toxic_comment_dataset/train.csv\")\n",
    "test_data = pd.read_csv(\"../input/toxic_comment_dataset/test.csv\")\n",
    "class_names = [\"toxic\", \"severe_toxic\", \"obscene\", \"threat\", \"insult\", \"identity_hate\"]"
   ]
  },
  {
   "cell_type": "code",
   "execution_count": 6,
   "metadata": {},
   "outputs": [
    {
     "data": {
      "text/html": [
       "<div>\n",
       "<style scoped>\n",
       "    .dataframe tbody tr th:only-of-type {\n",
       "        vertical-align: middle;\n",
       "    }\n",
       "\n",
       "    .dataframe tbody tr th {\n",
       "        vertical-align: top;\n",
       "    }\n",
       "\n",
       "    .dataframe thead th {\n",
       "        text-align: right;\n",
       "    }\n",
       "</style>\n",
       "<table border=\"1\" class=\"dataframe\">\n",
       "  <thead>\n",
       "    <tr style=\"text-align: right;\">\n",
       "      <th></th>\n",
       "      <th>id</th>\n",
       "      <th>comment_text</th>\n",
       "      <th>toxic</th>\n",
       "      <th>severe_toxic</th>\n",
       "      <th>obscene</th>\n",
       "      <th>threat</th>\n",
       "      <th>insult</th>\n",
       "      <th>identity_hate</th>\n",
       "    </tr>\n",
       "  </thead>\n",
       "  <tbody>\n",
       "    <tr>\n",
       "      <th>159566</th>\n",
       "      <td>ffe987279560d7ff</td>\n",
       "      <td>\":::::And for the second time of asking, when ...</td>\n",
       "      <td>0</td>\n",
       "      <td>0</td>\n",
       "      <td>0</td>\n",
       "      <td>0</td>\n",
       "      <td>0</td>\n",
       "      <td>0</td>\n",
       "    </tr>\n",
       "    <tr>\n",
       "      <th>159567</th>\n",
       "      <td>ffea4adeee384e90</td>\n",
       "      <td>You should be ashamed of yourself \\n\\nThat is ...</td>\n",
       "      <td>0</td>\n",
       "      <td>0</td>\n",
       "      <td>0</td>\n",
       "      <td>0</td>\n",
       "      <td>0</td>\n",
       "      <td>0</td>\n",
       "    </tr>\n",
       "    <tr>\n",
       "      <th>159568</th>\n",
       "      <td>ffee36eab5c267c9</td>\n",
       "      <td>Spitzer \\n\\nUmm, theres no actual article for ...</td>\n",
       "      <td>0</td>\n",
       "      <td>0</td>\n",
       "      <td>0</td>\n",
       "      <td>0</td>\n",
       "      <td>0</td>\n",
       "      <td>0</td>\n",
       "    </tr>\n",
       "    <tr>\n",
       "      <th>159569</th>\n",
       "      <td>fff125370e4aaaf3</td>\n",
       "      <td>And it looks like it was actually you who put ...</td>\n",
       "      <td>0</td>\n",
       "      <td>0</td>\n",
       "      <td>0</td>\n",
       "      <td>0</td>\n",
       "      <td>0</td>\n",
       "      <td>0</td>\n",
       "    </tr>\n",
       "    <tr>\n",
       "      <th>159570</th>\n",
       "      <td>fff46fc426af1f9a</td>\n",
       "      <td>\"\\nAnd ... I really don't think you understand...</td>\n",
       "      <td>0</td>\n",
       "      <td>0</td>\n",
       "      <td>0</td>\n",
       "      <td>0</td>\n",
       "      <td>0</td>\n",
       "      <td>0</td>\n",
       "    </tr>\n",
       "  </tbody>\n",
       "</table>\n",
       "</div>"
      ],
      "text/plain": [
       "                      id                                       comment_text  \\\n",
       "159566  ffe987279560d7ff  \":::::And for the second time of asking, when ...   \n",
       "159567  ffea4adeee384e90  You should be ashamed of yourself \\n\\nThat is ...   \n",
       "159568  ffee36eab5c267c9  Spitzer \\n\\nUmm, theres no actual article for ...   \n",
       "159569  fff125370e4aaaf3  And it looks like it was actually you who put ...   \n",
       "159570  fff46fc426af1f9a  \"\\nAnd ... I really don't think you understand...   \n",
       "\n",
       "        toxic  severe_toxic  obscene  threat  insult  identity_hate  \n",
       "159566      0             0        0       0       0              0  \n",
       "159567      0             0        0       0       0              0  \n",
       "159568      0             0        0       0       0              0  \n",
       "159569      0             0        0       0       0              0  \n",
       "159570      0             0        0       0       0              0  "
      ]
     },
     "execution_count": 6,
     "metadata": {},
     "output_type": "execute_result"
    }
   ],
   "source": [
    "#Display columns of train data\n",
    "train_data.tail(5)"
   ]
  },
  {
   "cell_type": "code",
   "execution_count": 22,
   "metadata": {},
   "outputs": [
    {
     "name": "stdout",
     "output_type": "stream",
     "text": [
      "Count of train_data: 159571\n",
      "The ratio between train_data and test_data: 1.0418309785589304\n",
      "Data missing status:\n",
      "Train data set:\n",
      "id               0\n",
      "comment_text     0\n",
      "toxic            0\n",
      "severe_toxic     0\n",
      "obscene          0\n",
      "threat           0\n",
      "insult           0\n",
      "identity_hate    0\n",
      "clean            0\n",
      "dtype: int64\n",
      "id              0\n",
      "comment_text    0\n",
      "dtype: int64\n",
      "Count of clean comments: 143346\n"
     ]
    }
   ],
   "source": [
    "#Show the count, data missing status of data set\n",
    "print('Count of train_data:', train_data.shape[0])\n",
    "print('The ratio between train_data and test_data:', train_data.shape[0]/test_data.shape[0])\n",
    "print('Data missing status:')\n",
    "print('Train data set:')\n",
    "missing_check = train_data.isnull().sum()\n",
    "print(missing_check)\n",
    "missing_check = test_data.isnull().sum()\n",
    "print(missing_check)\n",
    "\n",
    "##add Clean column for train_data\n",
    "rowN = train_data.iloc[:,2:].sum(axis=1)\n",
    "train_data['clean'] =(rowN == 0)\n",
    "print('Count of clean comments:', train_data['clean'].sum())"
   ]
  },
  {
   "cell_type": "code",
   "execution_count": 25,
   "metadata": {
    "scrolled": true
   },
   "outputs": [
    {
     "data": {
      "text/plain": [
       "Text(0.5, 0, 'Type')"
      ]
     },
     "execution_count": 25,
     "metadata": {},
     "output_type": "execute_result"
    },
    {
     "data": {
      "image/png": "[encoded data removed]",
      "text/plain": [
       "<Figure size 576x288 with 1 Axes>"
      ]
     },
     "metadata": {
      "needs_background": "light"
     },
     "output_type": "display_data"
    }
   ],
   "source": [
    "\n",
    "x = train_data.iloc[:,2:].sum()\n",
    "plt.figure(figsize=(8,4))\n",
    "ax = sbn.barplot(x.index, x.values, alpha = 0.5)\n",
    "plt.title(\"Occurences per class\")\n",
    "plt.ylabel(\"Occurences\")\n",
    "plt.xlabel(\"Type\")\n",
    "#print(\"The ratio between clean and all comment:\" train_data['clean'].sum()/train_data.shape[0])"
   ]
  },
  {
   "cell_type": "markdown",
   "metadata": {},
   "source": [
    "分析结论：从上述数据显示，训练数据和测试数据数据量相当，训练集和测试集均没有数据缺失。数据分布不均衡，大量的comment属于clean data."
   ]
  },
  {
   "cell_type": "code",
   "execution_count": 7,
   "metadata": {},
   "outputs": [
    {
     "data": {
      "image/png": "[encoded data removed]",
      "text/plain": [
       "<Figure size 576x288 with 1 Axes>"
      ]
     },
     "metadata": {},
     "output_type": "display_data"
    }
   ],
   "source": [
    "#multiple tags for comments\n",
    "rowsums=train_data.iloc[:,2:].sum(axis=1)\n",
    "x=rowsums.value_counts()\n",
    "\n",
    "#plot\n",
    "plt.figure(figsize=(8,4))\n",
    "ax = sbn.barplot(x.index, x.values, alpha=0.8)\n",
    "plt.title(\"Multiple tags per comment\")\n",
    "plt.ylabel('# of Occurrences', fontsize=12)\n",
    "plt.xlabel('# of tags ', fontsize=12)\n",
    "\n",
    "#adding the text labels\n",
    "rects = ax.patches\n",
    "labels = x.values\n",
    "for rect, label in zip(rects, labels):\n",
    "    height = rect.get_height()\n",
    "    ax.text(rect.get_x() + rect.get_width()/2, height + 5, label, ha='center', va='bottom')\n",
    "\n",
    "plt.show()"
   ]
  },
  {
   "cell_type": "markdown",
   "metadata": {},
   "source": [
    "上图显示一条评论可能对应多种分类标签的情况，单纯只对应一个标签的评论只有6360条。"
   ]
  },
  {
   "cell_type": "code",
   "execution_count": 31,
   "metadata": {},
   "outputs": [
    {
     "data": {
      "text/plain": [
       "<matplotlib.axes._subplots.AxesSubplot at 0xa8ced68>"
      ]
     },
     "execution_count": 31,
     "metadata": {},
     "output_type": "execute_result"
    },
    {
     "data": {
      "image/png": "[encoded data removed]",
      "text/plain": [
       "<Figure size 360x360 with 2 Axes>"
      ]
     },
     "metadata": {
      "needs_background": "light"
     },
     "output_type": "display_data"
    }
   ],
   "source": [
    "##Display hotmap of train_data\n",
    "temp_df = train_data.iloc[:,2:-1]\n",
    "corr = temp_df.corr(method=\"spearman\")\n",
    "plt.figure(figsize=(5,5))\n",
    "sbn.heatmap(corr, xticklabels=corr.columns.values, yticklabels=corr.columns.values, annot=True)"
   ]
  },
  {
   "cell_type": "markdown",
   "metadata": {},
   "source": [
    "热力图显示，insult和obscene的评论相关性最高，其次是insult/obscene的评论与toxic的相关性较高。"
   ]
  },
  {
   "cell_type": "code",
   "execution_count": 41,
   "metadata": {},
   "outputs": [
    {
     "name": "stdout",
     "output_type": "stream",
     "text": [
      "You are gay or antisemmitian? \n",
      "\n",
      "Archangel WHite Tiger\n",
      "\n",
      "Meow! Greetingshhh!\n",
      "\n",
      "Uh, there are two ways, why you do erased my comment about WW2, that holocaust was brutally slaying of Jews and not gays/Gypsys/Slavs/anyone...\n",
      "\n",
      "1 - If you are anti-semitian, than shave your head bald and go to the skinhead meetings!\n",
      "\n",
      "2 - If you doubt words of the Bible, that homosexuality is a deadly sin, make a pentagram tatoo on your forehead go to the satanistic masses with your gay pals!\n",
      "\n",
      "3 - First and last warning, you fucking gay - I won't appreciate if any more nazi shwain would write in my page! I don't wish to talk to you anymore!\n",
      "\n",
      "Beware of the Dark Side!\n"
     ]
    }
   ],
   "source": [
    "print(train_data[train_data.obscene == 1].iloc[1,1])"
   ]
  },
  {
   "cell_type": "code",
   "execution_count": 42,
   "metadata": {},
   "outputs": [
    {
     "name": "stdout",
     "output_type": "stream",
     "text": [
      "Hey... what is it..\n",
      "@ | talk .\n",
      "What is it... an exclusive group of some WP TALIBANS...who are good at destroying, self-appointed purist who GANG UP any one who asks them questions abt their ANTI-SOCIAL and DESTRUCTIVE (non)-contribution at WP?\n",
      "\n",
      "Ask Sityush to clean up his behavior than issue me nonsensical warnings...\n"
     ]
    }
   ],
   "source": [
    "print(train_data[train_data.toxic == 1].iloc[1,1])"
   ]
  },
  {
   "cell_type": "code",
   "execution_count": 43,
   "metadata": {},
   "outputs": [
    {
     "name": "stdout",
     "output_type": "stream",
     "text": [
      "Stupid peace of shit stop deleting my stuff asshole go die and fall in a hole go to hell!\n"
     ]
    }
   ],
   "source": [
    "print(train_data[train_data.severe_toxic == 1].iloc[1,1])"
   ]
  },
  {
   "cell_type": "code",
   "execution_count": 60,
   "metadata": {},
   "outputs": [
    {
     "name": "stdout",
     "output_type": "stream",
     "text": [
      "Go and hang yourself!\n"
     ]
    }
   ],
   "source": [
    "print(train_data[train_data.threat == 1].iloc[147,1])"
   ]
  },
  {
   "cell_type": "code",
   "execution_count": 55,
   "metadata": {},
   "outputs": [
    {
     "name": "stdout",
     "output_type": "stream",
     "text": [
      "All of my edits are good.  Cunts like you who revert good edits because you're too stupid to understand how to write well , and then revert other edits just because you've decided to bear a playground grudge, are the problem.  Maybe one day you'll realise the damage you did to a noble project.  201.215.187.159\n"
     ]
    }
   ],
   "source": [
    "print(train_data[train_data.insult == 1].iloc[5,1])"
   ]
  },
  {
   "cell_type": "code",
   "execution_count": 54,
   "metadata": {},
   "outputs": [
    {
     "name": "stdout",
     "output_type": "stream",
     "text": [
      "I fuck niggas! I fuck niggas! I fuck niggas! I fuck niggas! I fuck niggas! I fuck niggas! I fuck niggas! I fuck niggas! I fuck niggas! I fuck niggas! I fuck niggas! I fuck niggas! I fuck niggas! I fuck niggas! I fuck niggas! I fuck niggas! I fuck niggas! I fuck niggas! I fuck niggas! I fuck niggas! I fuck niggas! I fuck niggas! I fuck niggas! I fuck niggas! I fuck niggas! I fuck niggas! I fuck niggas! I fuck niggas! I fuck niggas! I fuck niggas! I fuck niggas! I fuck niggas! I fuck niggas! I fuck niggas! I fuck niggas! I fuck niggas! I fuck niggas! I fuck niggas! I fuck niggas! I fuck niggas! I fuck niggas! I fuck niggas! I fuck niggas! I fuck niggas! I fuck niggas! I fuck niggas! I fuck niggas! I fuck niggas! I fuck niggas! I fuck niggas! I fuck niggas! I fuck niggas! I fuck niggas! I fuck niggas! I fuck niggas! I fuck niggas! I fuck niggas! I fuck niggas! I fuck niggas! I fuck niggas! I fuck niggas! I fuck niggas! I fuck niggas! I fuck niggas! I fuck niggas! I fuck niggas! I fuck niggas! I fuck niggas! I fuck niggas! I fuck niggas! I fuck niggas! I fuck niggas! I fuck niggas! I fuck niggas! I fuck niggas! I fuck niggas! I fuck niggas! I fuck niggas! I fuck niggas! I fuck niggas! I fuck niggas! I fuck niggas! I fuck niggas! I fuck niggas! I fuck niggas! I fuck niggas! I fuck niggas! I fuck niggas! I fuck niggas! I fuck niggas! I fuck niggas! I fuck niggas! I fuck niggas! I fuck niggas! I fuck niggas! I fuck niggas! I fuck niggas! I fuck niggas! I fuck niggas! I fuck niggas! I fuck niggas! I fuck niggas! I fuck niggas! I fuck niggas! I fuck niggas! I fuck niggas! I fuck niggas! I fuck niggas! I fuck niggas! I fuck niggas! I fuck niggas! I fuck niggas! I fuck niggas! I fuck niggas! I fuck niggas! I fuck niggas! I fuck niggas! I fuck niggas! I fuck niggas! I fuck niggas! I fuck niggas! I fuck niggas! I fuck niggas! I fuck niggas! I fuck niggas! I fuck niggas! I fuck niggas! I fuck niggas! I fuck niggas! I fuck niggas! I fuck niggas! I fuck niggas! I fuck niggas! I fuck niggas! I fuck niggas! I fuck niggas! I fuck niggas! I fuck niggas! I fuck niggas! I fuck niggas! I fuck niggas! I fuck niggas! I fuck niggas! I fuck niggas! I fuck niggas! I fuck niggas! I fuck niggas! I fuck niggas! I fuck niggas! I fuck niggas! I fuck niggas! I fuck niggas! I fuck niggas! I fuck niggas! I fuck niggas! I fuck niggas! I fuck niggas! I fuck niggas! I fuck niggas! I fuck niggas! I fuck niggas! I fuck niggas! I fuck niggas! I fuck niggas! I fuck niggas! I fuck niggas! I fuck niggas! I fuck niggas! I fuck niggas! I fuck niggas! I fuck niggas! I fuck niggas! I fuck niggas! I fuck niggas! I fuck niggas! I fuck niggas! I fuck niggas! I fuck niggas! I fuck niggas! I fuck niggas! I fuck niggas! I fuck niggas! I fuck niggas! I fuck niggas! I fuck niggas! I fuck niggas! I fuck niggas! I fuck niggas! I fuck niggas! I fuck niggas! I fuck niggas! I fuck niggas! I fuck niggas! I fuck niggas! I fuck niggas! I fuck niggas! I fuck niggas! I fuck niggas! I fuck niggas! I fuck niggas! I fuck niggas! I fuck niggas! I fuck niggas! I fuck niggas! I fuck niggas! I fuck niggas! I fuck niggas! I fuck niggas! I fuck niggas! I fuck niggas! I fuck niggas! I fuck niggas! I fuck niggas! I fuck niggas! I fuck niggas! I fuck niggas! I fuck niggas! I fuck niggas! I fuck niggas! I fuck niggas! I fuck niggas! I fuck niggas! I fuck niggas! I fuck niggas! I fuck niggas! I fuck niggas! I fuck niggas! I fuck niggas! I fuck niggas! I fuck niggas! I fuck niggas! I fuck niggas! I fuck niggas! I fuck niggas! I fuck niggas! I fuck niggas! I fuck niggas! I fuck niggas! I fuck niggas! I fuck niggas! I fuck niggas! I fuck niggas! I fuck niggas! I fuck niggas! I fuck niggas! I fuck niggas! I fuck niggas! I fuck niggas! I fuck niggas! I fuck niggas! I fuck niggas! I fuck niggas! I fuck niggas! I fuck niggas! I fuck niggas! I fuck niggas! I fuck niggas! I fuck niggas! I fuck niggas! I fuck niggas! I fuck niggas! I fuck niggas! I fuck niggas! I fuck niggas! I fuck niggas! I fuck niggas! I fuck niggas! I fuck niggas! I fuck niggas! I fuck niggas! I fuck niggas! I fuck niggas! I fuck niggas! I fuck niggas! I fuck niggas! I fuck niggas! I fuck niggas! I fuck niggas! I fuck niggas! I fuck niggas! I fuck niggas! I fuck niggas! I fuck niggas! I fuck niggas! I fuck niggas! I fuck niggas! I fuck niggas! I fuck niggas! I fuck niggas! I fuck niggas! I fuck niggas! I fuck niggas! I fuck niggas! I fuck niggas! I fuck niggas! I fuck niggas! I fuck niggas! I fuck niggas! I fuck niggas! I fuck niggas! I fuck niggas! I fuck niggas! I fuck niggas! I fuck niggas! I fuck niggas! I fuck niggas! I fuck niggas! I fuck niggas! I fuck niggas! I fuck niggas! I fuck niggas! I fuck niggas! I fuck niggas! I fuck niggas! I fuck niggas! I fuck niggas! I fuck niggas! I fuck niggas! I fuck niggas! I fuck niggas! I fuck niggas! I fuck niggas! I fuck niggas! I fuck niggas! I fuck niggas! I fuck niggas! I fuck niggas! I fuck niggas! I fuck niggas! I fuck niggas! I fuck niggas! I fuck niggas! I fuck niggas! I fuc\n"
     ]
    }
   ],
   "source": [
    "print(train_data[train_data.identity_hate == 1].iloc[200,1])"
   ]
  },
  {
   "cell_type": "markdown",
   "metadata": {},
   "source": [
    "从随机查看的数据情况来看，数据长短不一，内容含有一些与情感无关的特殊符号或者号码等，也存在大量的复制粘贴重复的语句。"
   ]
  },
  {
   "cell_type": "markdown",
   "metadata": {},
   "source": [
    "## Data processing"
   ]
  },
  {
   "cell_type": "code",
   "execution_count": 3,
   "metadata": {},
   "outputs": [],
   "source": [
    "merge_data = pd.concat([train_data.iloc[:,0:2], test_data.iloc[:,0:2]])\n",
    "df = merge_data.reset_index(drop = True)"
   ]
  },
  {
   "cell_type": "code",
   "execution_count": 4,
   "metadata": {},
   "outputs": [],
   "source": [
    "#https://drive.google.com/file/d/0B1yuv8YaUVlZZ1RzMFJmc1ZsQmM/view\n",
    "appos = {\n",
    "\"aren't\" : \"are not\",\n",
    "\"can't\" : \"cannot\",\n",
    "\"couldn't\" : \"could not\",\n",
    "\"didn't\" : \"did not\",\n",
    "\"doesn't\" : \"does not\",\n",
    "\"don't\" : \"do not\",\n",
    "\"hadn't\" : \"had not\",\n",
    "\"hasn't\" : \"has not\",\n",
    "\"haven't\" : \"have not\",\n",
    "\"he'd\" : \"he would\",\n",
    "\"he'll\" : \"he will\",\n",
    "\"he's\" : \"he is\",\n",
    "\"i'd\" : \"I would\",\n",
    "\"i'd\" : \"I had\",\n",
    "\"i'll\" : \"I will\",\n",
    "\"i'm\" : \"I am\",\n",
    "\"isn't\" : \"is not\",\n",
    "\"it's\" : \"it is\",\n",
    "\"it'll\":\"it will\",\n",
    "\"i've\" : \"I have\",\n",
    "\"let's\" : \"let us\",\n",
    "\"mightn't\" : \"might not\",\n",
    "\"mustn't\" : \"must not\",\n",
    "\"shan't\" : \"shall not\",\n",
    "\"she'd\" : \"she would\",\n",
    "\"she'll\" : \"she will\",\n",
    "\"she's\" : \"she is\",\n",
    "\"shouldn't\" : \"should not\",\n",
    "\"that's\" : \"that is\",\n",
    "\"there's\" : \"there is\",\n",
    "\"they'd\" : \"they would\",\n",
    "\"they'll\" : \"they will\",\n",
    "\"they're\" : \"they are\",\n",
    "\"they've\" : \"they have\",\n",
    "\"we'd\" : \"we would\",\n",
    "\"we're\" : \"we are\",\n",
    "\"weren't\" : \"were not\",\n",
    "\"we've\" : \"we have\",\n",
    "\"what'll\" : \"what will\",\n",
    "\"what're\" : \"what are\",\n",
    "\"what's\" : \"what is\",\n",
    "\"what've\" : \"what have\",\n",
    "\"where's\" : \"where is\",\n",
    "\"who'd\" : \"who would\",\n",
    "\"who'll\" : \"who will\",\n",
    "\"who're\" : \"who are\",\n",
    "\"who's\" : \"who is\",\n",
    "\"who've\" : \"who have\",\n",
    "\"won't\" : \"will not\",\n",
    "\"wouldn't\" : \"would not\",\n",
    "\"you'd\" : \"you would\",\n",
    "\"you'll\" : \"you will\",\n",
    "\"you're\" : \"you are\",\n",
    "\"you've\" : \"you have\",\n",
    "\"'re\": \" are\",\n",
    "\"wasn't\": \"was not\",\n",
    "\"we'll\":\" will\",\n",
    "\"didn't\": \"did not\"\n",
    "}"
   ]
  },
  {
   "cell_type": "code",
   "execution_count": 5,
   "metadata": {},
   "outputs": [
    {
     "data": {
      "image/png": "[encoded data removed]",
      "text/plain": [
       "<Figure size 432x288 with 1 Axes>"
      ]
     },
     "metadata": {},
     "output_type": "display_data"
    }
   ],
   "source": [
    "train_word_list = list(set([a for b in train_data.comment_text.tolist() for a in b]))\n",
    "test_word_list = list(set([a for b in test_data.comment_text.tolist() for a in b]))\n",
    "\n",
    "train_cmt_list = train_data.comment_text.tolist()\n",
    "test_cmt_list = test_data.comment_text.tolist()\n",
    "\n",
    "common_word_list = list(set(train_word_list).intersection(test_word_list))\n",
    "plt.title(\"Common Comments\")\n",
    "venn.venn2(subsets=(len(train_word_list),len(test_word_list),len(common_word_list)),set_labels=(\"# of comments in train\",\"# of comments in test\"))\n",
    "plt.show()"
   ]
  },
  {
   "cell_type": "code",
   "execution_count": 5,
   "metadata": {},
   "outputs": [
    {
     "name": "stdout",
     "output_type": "stream",
     "text": [
      "[nltk_data] Downloading package stopwords to\n",
      "[nltk_data]     C:\\Users\\Dell\\AppData\\Roaming\\nltk_data...\n",
      "[nltk_data]   Package stopwords is already up-to-date!\n",
      "[nltk_data] Downloading package wordnet to\n",
      "[nltk_data]     C:\\Users\\Dell\\AppData\\Roaming\\nltk_data...\n",
      "[nltk_data]   Package wordnet is already up-to-date!\n"
     ]
    }
   ],
   "source": [
    "# Reduction speech, e.g.:  laughing --> laugh\n",
    "lem = WordNetLemmatizer()\n",
    "# TweetTokenizer \n",
    "token = TweetTokenizer(strip_handles=True, reduce_len = True)\n",
    "\n",
    "nltk.download('stopwords')\n",
    "nltk.download('wordnet')\n",
    "eng_stopwords = set(stopwords.words(\"english\"))"
   ]
  },
  {
   "cell_type": "code",
   "execution_count": 6,
   "metadata": {},
   "outputs": [
    {
     "name": "stdout",
     "output_type": "stream",
     "text": [
      "{'this', 'from', 'under', 'are', 'does', 'their', 'who', 'or', 'below', 'up', 'were', \"mightn't\", 'was', \"don't\", \"didn't\", 'd', 'only', 'herself', 'won', 'in', 'him', 'for', 'mightn', 'shan', 'which', 'while', 'few', 'itself', 'his', 'such', 'mustn', 'i', 'be', 'own', \"wouldn't\", 'yourselves', 'all', 'no', 'whom', 'those', 'she', 'and', 'hadn', 'doing', 'll', 'our', 'with', 'y', \"should've\", \"she's\", 'now', \"haven't\", 'ain', 'over', 'when', 'your', 'out', 'other', 'off', 'needn', 'down', 'ourselves', 'there', 'each', 'yourself', 'nor', 'then', 'wouldn', 'is', 'but', 'through', 'before', \"shouldn't\", 'very', 'that', \"hasn't\", \"hadn't\", 'should', 'wasn', 'most', 'me', 'these', 'weren', 'any', 'couldn', 'above', 'being', 'between', 'it', 'yours', 'hers', 'will', 'a', \"you've\", 'the', 'again', 'where', 'both', 'have', 'if', 'isn', 'more', 'of', 're', 'how', 'do', 'not', 'further', 'about', 'at', 'ours', 'haven', 'her', 'so', \"you're\", \"couldn't\", 'didn', 'because', \"shan't\", 'same', 'against', 'm', 'some', 'can', 'why', 'ma', 'here', 've', \"isn't\", 'he', 'you', 'after', 't', 'hasn', \"mustn't\", \"won't\", 'once', 'too', 'until', 'has', 'than', 'during', 'don', \"aren't\", \"you'll\", 'been', 'himself', 'into', 'having', \"wasn't\", \"you'd\", 'o', \"it's\", 'shouldn', 'what', 'doesn', \"doesn't\", 'on', 'as', 'them', \"that'll\", 'had', \"weren't\", 'we', 'they', 'theirs', 'to', 'my', 'am', 'themselves', 'by', 'aren', 'just', 'an', 'myself', 'its', 'did', 's', \"needn't\"}\n"
     ]
    }
   ],
   "source": [
    "print(eng_stopwords)"
   ]
  },
  {
   "cell_type": "code",
   "execution_count": 6,
   "metadata": {},
   "outputs": [],
   "source": [
    "\n",
    "def clean(cmt):\n",
    "    \"\"\"\n",
    "    It will receive comments and return clean word-list\n",
    "    \"\"\"\n",
    "    ## delete ip,uername,url change upper to lower\n",
    "    cmt = cmt.lower()\n",
    "    cmt = re.sub(\"\\n\", \" \", cmt)\n",
    "    cmt = re.sub(\"\\d{1,3}\\.\\d{1,3}\\.\\d{1,3}\\.\\d{1,3}\", \" <IP> \", cmt)\n",
    "    cmt = re.sub(\"\\w+([-+.]\\w+)*@\\w+([-.]\\w+)*\\.\\w+([-.]\\w+)*\", \" <email> \", cmt)\n",
    "    cmt = re.sub(\"\\d{4}-\\d{1,2}-\\d{1,2}\", \" <date> \", cmt)\n",
    "    cmt = re.sub(\"\\[\\[.*\\]\", \" \", cmt)\n",
    "    #replace url with <url>\n",
    "    cmt = re.sub(\"[a-zA-z]+://[^\\s]*\", \" <url> \", cmt)\n",
    "    cmt = re.sub(\"^\\d{15}|\\d{18}$\", \" \", cmt)\n",
    "    # replace some special note\n",
    "    cmt = re.sub(\"[@%&',;=?$\\x22]+\", \" \", cmt)\n",
    "    #re.match(\"([a-zA-Z])(\\1){2,}\", \"\", cmt)\n",
    "    \n",
    "    #split sentences into words\n",
    "    words = token.tokenize(cmt)\n",
    "    \n",
    "    words = [appos[word] if word in appos else word for word in words]\n",
    "    words =[lem.lemmatize(word, \"v\") for word in words]\n",
    "    words = [w for w in words if not w in eng_stopwords]\n",
    "    \n",
    "    clean_smt = \" \".join(words)\n",
    "    \n",
    "    return clean_smt"
   ]
  },
  {
   "cell_type": "code",
   "execution_count": 7,
   "metadata": {},
   "outputs": [
    {
     "name": "stdout",
     "output_type": "stream",
     "text": [
      "Before clean: i was telled it woul.d be a single don.t merge - pzzschool\n",
      "========Devided line==========\n",
      "After clean: tell woul . single . merge - pzzschool\n"
     ]
    }
   ],
   "source": [
    "##Example of Corpus cleaning \n",
    "corpus = merge_data.comment_text\n",
    "print('Before clean:', corpus.iloc[1314])\n",
    "print('========Devided line==========')\n",
    "print(\"After clean:\", clean(corpus.iloc[1314]))\n"
   ]
  },
  {
   "cell_type": "code",
   "execution_count": 8,
   "metadata": {},
   "outputs": [
    {
     "name": "stdout",
     "output_type": "stream",
     "text": [
      "Take  229.02909994125366  seconds to clean\n"
     ]
    }
   ],
   "source": [
    "#Corpus clean\n",
    "time_startclean = time.time()\n",
    "clean_corpus = corpus.apply(lambda x :clean(x))\n",
    "time_endclean = time.time()\n",
    "\n",
    "print('Take ', time_endclean - time_startclean, ' seconds to clean')"
   ]
  },
  {
   "cell_type": "markdown",
   "metadata": {},
   "source": [
    "## Logistic Regression"
   ]
  },
  {
   "cell_type": "code",
   "execution_count": 9,
   "metadata": {},
   "outputs": [
    {
     "name": "stdout",
     "output_type": "stream",
     "text": [
      "Take  29.942659854888916 seconds to vectorize\n"
     ]
    }
   ],
   "source": [
    "#vectorize by word\n",
    "maxFeatures = 30000\n",
    "time_vec_start = time.time()\n",
    "tfidfV = TfidfVectorizer(min_df = 5, max_features = maxFeatures, \n",
    "                        strip_accents ='unicode', analyzer='word', ngram_range =(1,1),\n",
    "                        use_idf=1,smooth_idf =1, sublinear_tf=1,\n",
    "                        stop_words='english')\n",
    "tfidfV.fit(clean_corpus)\n",
    "features = np.array(tfidfV.get_feature_names())\n",
    "train_bigrams = tfidfV.transform(clean_corpus.iloc[:train_data.shape[0]])\n",
    "test_bigrams = tfidfV.transform(clean_corpus.iloc[train_data.shape[0]:])\n",
    "\n",
    "time_vec_end = time.time()\n",
    "print('Take ', time_vec_end - time_vec_start, 'seconds to vectorize')"
   ]
  },
  {
   "cell_type": "code",
   "execution_count": 10,
   "metadata": {},
   "outputs": [
    {
     "name": "stdout",
     "output_type": "stream",
     "text": [
      "Take  477.20126366615295 seconds to vectorize by char.\n"
     ]
    }
   ],
   "source": [
    "#vectorize by char\n",
    "time_vec_start = time.time()\n",
    "maxFeatures = 30000\n",
    "tfidfV_char = TfidfVectorizer(min_df = 50, max_features = maxFeatures, \n",
    "                        strip_accents ='unicode', analyzer='char', ngram_range =(2,5),\n",
    "                        use_idf=1,smooth_idf =1, sublinear_tf=1,\n",
    "                        stop_words='english')\n",
    "tfidfV_char.fit(clean_corpus)\n",
    "features_char = np.array(tfidfV_char.get_feature_names())\n",
    "train_char = tfidfV_char.transform(clean_corpus.iloc[:train_data.shape[0]])\n",
    "test_char = tfidfV_char.transform(clean_corpus.iloc[train_data.shape[0]:])\n",
    "time_vec_end = time.time()\n",
    "print('Take ', time_vec_end - time_vec_start, 'seconds to vectorize by char.')"
   ]
  },
  {
   "cell_type": "code",
   "execution_count": 11,
   "metadata": {},
   "outputs": [
    {
     "name": "stdout",
     "output_type": "stream",
     "text": [
      "CV score for class toxic is 0.9770128427661546\n",
      "CV score for class severe_toxic is 0.9885307768238081\n",
      "CV score for class obscene is 0.9910237086949085\n",
      "CV score for class threat is 0.9843439683910699\n",
      "CV score for class insult is 0.9818408391068809\n",
      "CV score for class identity_hate is 0.9831813816251127\n",
      "Total CV score is 0.9843222529013226\n"
     ]
    }
   ],
   "source": [
    "train_word_char = hstack([train_char, train_bigrams])\n",
    "test_word_char = hstack([test_char, test_bigrams]) \n",
    "\n",
    "scores = []\n",
    "submission = pd.DataFrame.from_dict({'id': test_data['id']})\n",
    "class_names = ['toxic','severe_toxic','obscene','threat','insult','identity_hate']\n",
    "\n",
    "for class_name in class_names:\n",
    "    train_target = train_data[class_name]\n",
    "    classifier = LogisticRegression(C=0.5, solver='sag')\n",
    "\n",
    "    #cv_score = np.mean(cross_val_score(classifier, train_bigrams, train_target, cv=20, scoring='roc_auc'))\n",
    "    #cv_score = np.mean(cross_val_score(classifier, train_char, train_target, cv=5, scoring='roc_auc'))\n",
    "    cv_score = np.mean(cross_val_score(classifier, train_word_char, train_target, cv=20, scoring='roc_auc'))\n",
    "    scores.append(cv_score)\n",
    "    print('CV score for class {} is {}'.format(class_name, cv_score))\n",
    "\n",
    "    #classifier.fit(train_bigrams, train_target)\n",
    "    #submission[class_name] = classifier.predict_proba(test_bigrams)[:, 1]\n",
    "    #classifier.fit(train_char, train_target)\n",
    "    #submission[class_name] = classifier.predict_proba(test_char)[:, 1]\n",
    "    classifier.fit(train_word_char, train_target)\n",
    "    submission[class_name] = classifier.predict_proba(test_word_char)[:, 1]\n",
    "\n",
    "print('Total CV score is {}'.format(np.mean(scores)))\n",
    "\n",
    "submission.to_csv('submission.csv', index=False)"
   ]
  },
  {
   "cell_type": "code",
   "execution_count": 15,
   "metadata": {},
   "outputs": [
    {
     "data": {
      "text/html": [
       "<div>\n",
       "<style scoped>\n",
       "    .dataframe tbody tr th:only-of-type {\n",
       "        vertical-align: middle;\n",
       "    }\n",
       "\n",
       "    .dataframe tbody tr th {\n",
       "        vertical-align: top;\n",
       "    }\n",
       "\n",
       "    .dataframe thead th {\n",
       "        text-align: right;\n",
       "    }\n",
       "</style>\n",
       "<table border=\"1\" class=\"dataframe\">\n",
       "  <thead>\n",
       "    <tr style=\"text-align: right;\">\n",
       "      <th></th>\n",
       "      <th>id</th>\n",
       "      <th>toxic</th>\n",
       "      <th>severe_toxic</th>\n",
       "      <th>obscene</th>\n",
       "      <th>threat</th>\n",
       "      <th>insult</th>\n",
       "      <th>identity_hate</th>\n",
       "    </tr>\n",
       "  </thead>\n",
       "  <tbody>\n",
       "    <tr>\n",
       "      <th>137113</th>\n",
       "      <td>e5254ce9fabd9893</td>\n",
       "      <td>1.0</td>\n",
       "      <td>0.972202</td>\n",
       "      <td>1.0</td>\n",
       "      <td>0.086464</td>\n",
       "      <td>0.999999</td>\n",
       "      <td>0.540957</td>\n",
       "    </tr>\n",
       "    <tr>\n",
       "      <th>39402</th>\n",
       "      <td>41600a159afb4a20</td>\n",
       "      <td>1.0</td>\n",
       "      <td>0.943378</td>\n",
       "      <td>1.0</td>\n",
       "      <td>0.070153</td>\n",
       "      <td>0.999989</td>\n",
       "      <td>0.406263</td>\n",
       "    </tr>\n",
       "    <tr>\n",
       "      <th>122641</th>\n",
       "      <td>cccdd198baa36464</td>\n",
       "      <td>1.0</td>\n",
       "      <td>0.956472</td>\n",
       "      <td>1.0</td>\n",
       "      <td>0.203682</td>\n",
       "      <td>0.999978</td>\n",
       "      <td>0.666133</td>\n",
       "    </tr>\n",
       "    <tr>\n",
       "      <th>126357</th>\n",
       "      <td>d320f8749c6d9820</td>\n",
       "      <td>1.0</td>\n",
       "      <td>0.971767</td>\n",
       "      <td>1.0</td>\n",
       "      <td>0.199575</td>\n",
       "      <td>0.999842</td>\n",
       "      <td>0.277631</td>\n",
       "    </tr>\n",
       "    <tr>\n",
       "      <th>141347</th>\n",
       "      <td>ec4774caac6adef4</td>\n",
       "      <td>1.0</td>\n",
       "      <td>0.937374</td>\n",
       "      <td>1.0</td>\n",
       "      <td>0.083501</td>\n",
       "      <td>0.999960</td>\n",
       "      <td>0.489629</td>\n",
       "    </tr>\n",
       "    <tr>\n",
       "      <th>135375</th>\n",
       "      <td>e248b2a56473f1a3</td>\n",
       "      <td>1.0</td>\n",
       "      <td>0.961801</td>\n",
       "      <td>1.0</td>\n",
       "      <td>0.592078</td>\n",
       "      <td>0.999964</td>\n",
       "      <td>0.900754</td>\n",
       "    </tr>\n",
       "    <tr>\n",
       "      <th>71810</th>\n",
       "      <td>77a740cd70e2959f</td>\n",
       "      <td>1.0</td>\n",
       "      <td>0.959117</td>\n",
       "      <td>1.0</td>\n",
       "      <td>0.058676</td>\n",
       "      <td>0.999693</td>\n",
       "      <td>0.145779</td>\n",
       "    </tr>\n",
       "    <tr>\n",
       "      <th>69838</th>\n",
       "      <td>74412dadacac9976</td>\n",
       "      <td>1.0</td>\n",
       "      <td>0.902598</td>\n",
       "      <td>1.0</td>\n",
       "      <td>0.117471</td>\n",
       "      <td>0.999799</td>\n",
       "      <td>0.285364</td>\n",
       "    </tr>\n",
       "    <tr>\n",
       "      <th>146815</th>\n",
       "      <td>f56c9f2f5c599ec2</td>\n",
       "      <td>1.0</td>\n",
       "      <td>0.988230</td>\n",
       "      <td>1.0</td>\n",
       "      <td>0.159440</td>\n",
       "      <td>0.999997</td>\n",
       "      <td>0.616608</td>\n",
       "    </tr>\n",
       "    <tr>\n",
       "      <th>72990</th>\n",
       "      <td>799638b93f93a0c4</td>\n",
       "      <td>1.0</td>\n",
       "      <td>0.990347</td>\n",
       "      <td>1.0</td>\n",
       "      <td>0.561841</td>\n",
       "      <td>0.999989</td>\n",
       "      <td>0.961152</td>\n",
       "    </tr>\n",
       "  </tbody>\n",
       "</table>\n",
       "</div>"
      ],
      "text/plain": [
       "                      id  toxic  severe_toxic  obscene    threat    insult  \\\n",
       "137113  e5254ce9fabd9893    1.0      0.972202      1.0  0.086464  0.999999   \n",
       "39402   41600a159afb4a20    1.0      0.943378      1.0  0.070153  0.999989   \n",
       "122641  cccdd198baa36464    1.0      0.956472      1.0  0.203682  0.999978   \n",
       "126357  d320f8749c6d9820    1.0      0.971767      1.0  0.199575  0.999842   \n",
       "141347  ec4774caac6adef4    1.0      0.937374      1.0  0.083501  0.999960   \n",
       "135375  e248b2a56473f1a3    1.0      0.961801      1.0  0.592078  0.999964   \n",
       "71810   77a740cd70e2959f    1.0      0.959117      1.0  0.058676  0.999693   \n",
       "69838   74412dadacac9976    1.0      0.902598      1.0  0.117471  0.999799   \n",
       "146815  f56c9f2f5c599ec2    1.0      0.988230      1.0  0.159440  0.999997   \n",
       "72990   799638b93f93a0c4    1.0      0.990347      1.0  0.561841  0.999989   \n",
       "\n",
       "        identity_hate  \n",
       "137113       0.540957  \n",
       "39402        0.406263  \n",
       "122641       0.666133  \n",
       "126357       0.277631  \n",
       "141347       0.489629  \n",
       "135375       0.900754  \n",
       "71810        0.145779  \n",
       "69838        0.285364  \n",
       "146815       0.616608  \n",
       "72990        0.961152  "
      ]
     },
     "execution_count": 15,
     "metadata": {},
     "output_type": "execute_result"
    }
   ],
   "source": [
    "sub_test_data = pd.read_csv(\"submission.csv\")\n",
    "aa = sub_test_data.sort_values(by=\"toxic\" , ascending=True)\n",
    "aa.tail(10)"
   ]
  },
  {
   "cell_type": "markdown",
   "metadata": {},
   "source": [
    "## Deep learning -- GRU, pretrained word vector Fasttext/GloVe/Glove-twitter"
   ]
  },
  {
   "cell_type": "code",
   "execution_count": 9,
   "metadata": {},
   "outputs": [
    {
     "name": "stderr",
     "output_type": "stream",
     "text": [
      "Using TensorFlow backend.\n",
      "C:\\Users\\Dell\\AppData\\Local\\conda\\conda\\envs\\toxic-env\\lib\\site-packages\\gensim\\utils.py:1197: UserWarning: detected Windows; aliasing chunkize to chunkize_serial\n",
      "  warnings.warn(\"detected Windows; aliasing chunkize to chunkize_serial\")\n"
     ]
    }
   ],
   "source": [
    "from keras.layers import Input, Dense, Embedding, SpatialDropout1D, concatenate,Dropout,Flatten,Lambda,Conv1D,PReLU,concatenate\n",
    "from keras.layers import GRU, Bidirectional, GlobalAveragePooling1D, GlobalMaxPooling1D, BatchNormalization,MaxPooling1D,LSTM,TimeDistributed\n",
    "from keras.callbacks import EarlyStopping, ModelCheckpoint, Callback\n",
    "from keras.preprocessing.sequence import pad_sequences\n",
    "from keras.preprocessing.text import Tokenizer\n",
    "from keras.models import Sequential, Model\n",
    "from keras_tqdm import TQDMCallback\n",
    "from keras import backend as K\n",
    "from keras.regularizers import l2\n",
    "from sklearn.model_selection import KFold, train_test_split\n",
    "from collections import Counter\n",
    "import tensorflow as tf\n",
    "from sklearn.preprocessing import StandardScaler\n",
    "from keras import optimizers\n",
    "\n",
    "import os, gc, warnings, gensim, pickle\n",
    "os.environ['OMP_NUM_THREADS'] = '4'\n",
    "warnings.filterwarnings('ignore')\n",
    "from unidecode import unidecode\n",
    "\n",
    "randomC = 42\n",
    "np.random.seed(randomC)\n",
    "eng_stopwords = set(stopwords.words(\"english\"))"
   ]
  },
  {
   "cell_type": "code",
   "execution_count": 11,
   "metadata": {},
   "outputs": [
    {
     "name": "stdout",
     "output_type": "stream",
     "text": [
      "Take  228.1640501022339  seconds to clean\n"
     ]
    }
   ],
   "source": [
    "#Corpus clean\n",
    "time_startclean = time.time()\n",
    "train_data['clean_text'] = train_data['comment_text'].apply(lambda x: clean(str(x)))\n",
    "test_data['clean_text'] = test_data['comment_text'].apply(lambda x: clean(str(x)))\n",
    "time_endclean = time.time()\n",
    "\n",
    "print('Take ', time_endclean - time_startclean, ' seconds to clean')\n",
    "\n",
    "X_train = train_data['clean_text'].fillna(\"something\").values\n",
    "y_train = train_data[[\"toxic\", \"severe_toxic\", \"obscene\", \"threat\", \"insult\", \"identity_hate\"]].values\n",
    "X_test = test_data['clean_text'].fillna(\"something\").values"
   ]
  },
  {
   "cell_type": "markdown",
   "metadata": {},
   "source": [
    "### Add features for train/test dataset with length, number of unique words etc."
   ]
  },
  {
   "cell_type": "code",
   "execution_count": 12,
   "metadata": {},
   "outputs": [],
   "source": [
    "def add_features(df):\n",
    "    \n",
    "    df['comment_text'] = df['comment_text'].apply(lambda x:str(x))\n",
    "    df['total_length'] = df['comment_text'].apply(len)\n",
    "    df['capitals'] = df['comment_text'].apply(lambda comment: sum(1 for c in comment if c.isupper()))\n",
    "    df['caps_vs_length'] = df.apply(lambda row: float(row['capitals'])/float(row['total_length']),\n",
    "                                axis=1)\n",
    "    df['num_words'] = df.comment_text.str.count('\\S+')\n",
    "    df['num_unique_words'] = df['comment_text'].apply(lambda comment: len(set(w for w in comment.split())))\n",
    "    df['words_vs_unique'] = df['num_unique_words'] / df['num_words']  \n",
    "\n",
    "    return df\n",
    "\n",
    "train_data = add_features(train_data)\n",
    "test_data = add_features(test_data)\n",
    "\n",
    "features = train_data[['caps_vs_length', 'words_vs_unique']].fillna(0)\n",
    "test_features = test_data[['caps_vs_length', 'words_vs_unique']].fillna(0)\n",
    "\n",
    "ss = StandardScaler()\n",
    "ss.fit(np.vstack((features, test_features)))\n",
    "features = ss.transform(features)\n",
    "test_features = ss.transform(test_features)"
   ]
  },
  {
   "cell_type": "code",
   "execution_count": 15,
   "metadata": {},
   "outputs": [
    {
     "name": "stdout",
     "output_type": "stream",
     "text": [
      "319004\n"
     ]
    }
   ],
   "source": [
    "max_features = 20000\n",
    "maxlen = 150\n",
    "\n",
    "tokenizer = Tokenizer(num_words=max_features)\n",
    "tokenizer.fit_on_texts(list(X_train) + list(X_test))\n",
    "X_train_sequence = tokenizer.texts_to_sequences(X_train)\n",
    "X_test_sequence = tokenizer.texts_to_sequences(X_test)\n",
    "\n",
    "x_train = pad_sequences(X_train_sequence, maxlen=maxlen)\n",
    "x_test = pad_sequences(X_test_sequence, maxlen=maxlen)\n",
    "print(len(tokenizer.word_index))"
   ]
  },
  {
   "cell_type": "markdown",
   "metadata": {},
   "source": [
    "### Extract weight matrix of pre-trained word vector [ fasttext, glove/glove-twitter ] "
   ]
  },
  {
   "cell_type": "code",
   "execution_count": null,
   "metadata": {},
   "outputs": [],
   "source": [
    "Embed_fast_text = \"../input/fasttext_crawl_300d_2m/crawl-300d-2M.vec\"\n",
    "Embed_glove = \"../input/decanlp_glove_840b_300d/glove.840B.300d.txt\"\n",
    "Embed_tw = \"../input/glove/glove.twitter.27B.200d.txt\""
   ]
  },
  {
   "cell_type": "code",
   "execution_count": 16,
   "metadata": {},
   "outputs": [],
   "source": [
    "Embed_fast_text = \"data/crawl-300d-2M.vec\"\n",
    "Embed_glove = \"data/glove.840B.300d.txt\"\n",
    "Embed_tw = \"data/glove.twitter.27B.200d.txt\""
   ]
  },
  {
   "cell_type": "code",
   "execution_count": 17,
   "metadata": {},
   "outputs": [],
   "source": [
    "def get_coefs(word, *arr): return word, np.asarray(arr, dtype='float32')\n",
    "embeddings_index_ft = dict(get_coefs(*o.rstrip().rsplit(' ')) for o in open(Embed_fast_text,encoding='utf-8'))\n",
    "embeddings_index_tw = dict(get_coefs(*o.strip().split()) for o in open(Embed_tw,encoding='utf-8'))\n"
   ]
  },
  {
   "cell_type": "code",
   "execution_count": null,
   "metadata": {},
   "outputs": [],
   "source": [
    "#For glove 300d pretrained vector -- backup\n",
    "\n",
    "def get_embed_index(file):\n",
    "    embed_index = {}\n",
    "    f = open(file, encoding='utf-8')\n",
    "    for line in f:\n",
    "        #print(line)\n",
    "        values = line.split()\n",
    "        word = ' '.join(values[:-300])\n",
    "        #print(word)\n",
    "        coefs = np.asarray(values[-300:], dtype='float32')\n",
    "        embed_index[word] = coefs\n",
    "    f.close()\n",
    "    return embed_index\n",
    "\n",
    "embeddings_index_glove = get_embed_index(Embed_glove);"
   ]
  },
  {
   "cell_type": "code",
   "execution_count": 18,
   "metadata": {},
   "outputs": [],
   "source": [
    "# This code is  based on: Spellchecker using Word2vec by CPMP\n",
    "# https://www.kaggle.com/cpmpml/spell-checker-using-word2vec\n",
    "spell_model = gensim.models.KeyedVectors.load_word2vec_format(Embed_fast_text)\n",
    "\n",
    "words = spell_model.index2word\n",
    "\n",
    "w_rank = {}\n",
    "for i,word in enumerate(words):\n",
    "    w_rank[word] = i\n",
    "\n",
    "WORDS = w_rank\n",
    "\n",
    "def words(text): return re.findall(r'\\w+', text.lower())\n",
    "\n",
    "def P(word): \n",
    "    \"Probability of `word`.\"\n",
    "    # use inverse of rank as proxy\n",
    "    # returns 0 if the word isn't in the dictionary\n",
    "    return - WORDS.get(word, 0)\n",
    "\n",
    "def correction(word): \n",
    "    \"Most probable spelling correction for word.\"\n",
    "    return max(candidates(word), key=P)\n",
    "\n",
    "def candidates(word): \n",
    "    \"Generate possible spelling corrections for word.\"\n",
    "    return (known([word]) or known(edits1(word)) or known(edits2(word)) or [word])\n",
    "\n",
    "def known(words): \n",
    "    \"The subset of `words` that appear in the dictionary of WORDS.\"\n",
    "    return set(w for w in words if w in WORDS)\n",
    "\n",
    "def edits1(word):\n",
    "    \"All edits that are one edit away from `word`.\"\n",
    "    letters    = 'abcdefghijklmnopqrstuvwxyz'\n",
    "    splits     = [(word[:i], word[i:])    for i in range(len(word) + 1)]\n",
    "    deletes    = [L + R[1:]               for L, R in splits if R]\n",
    "    transposes = [L + R[1] + R[0] + R[2:] for L, R in splits if len(R)>1]\n",
    "    replaces   = [L + c + R[1:]           for L, R in splits if R for c in letters]\n",
    "    inserts    = [L + c + R               for L, R in splits for c in letters]\n",
    "    return set(deletes + transposes + replaces + inserts)\n",
    "\n",
    "def edits2(word): \n",
    "    \"All edits that are two edits away from `word`.\"\n",
    "    return (e2 for e1 in edits1(word) for e2 in edits1(e1))\n",
    "\n",
    "def singlify(word):\n",
    "    return \"\".join([letter for i,letter in enumerate(word) if i == 0 or letter != word[i-1]])"
   ]
  },
  {
   "cell_type": "code",
   "execution_count": 19,
   "metadata": {},
   "outputs": [],
   "source": [
    "word_index = tokenizer.word_index\n",
    "nb_words = min(max_features, len(word_index))\n",
    "embedding_matrix = np.zeros((nb_words,501))# fasttext 300d + twitter 200d\n",
    "\n",
    "something_tw = embeddings_index_tw.get(\"something\")\n",
    "#something_tw = embeddings_index_glove.get(\"something\")\n",
    "something_ft = embeddings_index_ft.get(\"something\")\n",
    "\n",
    "something = np.zeros((501,))\n",
    "something[:300,] = something_ft\n",
    "something[300:500,] = something_tw\n",
    "something[500,] = 0\n",
    "\n",
    "def all_caps(word):\n",
    "    return len(word) > 1 and word.isupper()\n",
    "\n",
    "def embed_word(embedding_matrix,i,word):\n",
    "    embedding_vector_ft = embeddings_index_ft.get(word)\n",
    "    if embedding_vector_ft is not None: \n",
    "        if all_caps(word):\n",
    "            last_value = np.array([1])\n",
    "        else:\n",
    "            last_value = np.array([0])\n",
    "        embedding_matrix[i,:300] = embedding_vector_ft\n",
    "        embedding_matrix[i,500] = last_value\n",
    "        embedding_vector_tw = embeddings_index_tw.get(word)\n",
    "        if embedding_vector_tw is not None:\n",
    "            embedding_matrix[i,300:500] = embedding_vector_tw\n",
    "\n",
    "            \n",
    "# Fasttext vector is used by itself if there is no glove vector but not the other way around.\n",
    "for word, i in word_index.items():\n",
    "    \n",
    "    if i >= max_features: continue\n",
    "        \n",
    "    if embeddings_index_ft.get(word) is not None:\n",
    "        embed_word(embedding_matrix,i,word)\n",
    "    else:\n",
    "        if len(word) > 20:\n",
    "            embedding_matrix[i] = something\n",
    "        else:\n",
    "            word2 = correction(word)\n",
    "            if embeddings_index_ft.get(word2) is not None:\n",
    "                embed_word(embedding_matrix,i,word2)\n",
    "            else:\n",
    "                word2 = correction(singlify(word))\n",
    "                if embeddings_index_ft.get(word2) is not None:\n",
    "                    embed_word(embedding_matrix,i,word2)\n",
    "                else:\n",
    "                    embedding_matrix[i] = something     "
   ]
  },
  {
   "cell_type": "code",
   "execution_count": 20,
   "metadata": {},
   "outputs": [],
   "source": [
    "## calculate AUC ,simulate early stop & record heighest score\n",
    "\n",
    "class RocAucEvaluation(Callback):\n",
    "    def __init__(self, validation_data=(), interval=1):\n",
    "        super(Callback, self).__init__()\n",
    "\n",
    "        self.interval = interval\n",
    "        self.X_val, self.y_val = validation_data\n",
    "        self.max_score = 0\n",
    "        self.not_better_count = 0\n",
    "\n",
    "    def on_epoch_end(self, epoch, logs={}):\n",
    "        if epoch % self.interval == 0:\n",
    "            y_pred = self.model.predict(self.X_val, verbose=1)\n",
    "            score = roc_auc_score(self.y_val, y_pred)\n",
    "            print(\"\\n AUC - epoch: %d - score: %.6f \\n\" % (epoch+1, score))\n",
    "            if (score > self.max_score):\n",
    "                print(\"*** New High Score (previous: %.6f) \\n\" % self.max_score)\n",
    "                model.save_weights(\"best_weights.h5\")\n",
    "                self.max_score=score\n",
    "                self.not_better_count = 0\n",
    "            else:\n",
    "                self.not_better_count += 1\n",
    "                if self.not_better_count > 4:\n",
    "                    print(\"Epoch %05d: early stopping, high score = %.6f\" % (epoch,self.max_score))\n",
    "                    self.model.stop_training = True"
   ]
  },
  {
   "cell_type": "markdown",
   "metadata": {},
   "source": [
    "### 实验一 不使用预训练词向量"
   ]
  },
  {
   "cell_type": "code",
   "execution_count": 15,
   "metadata": {},
   "outputs": [],
   "source": [
    "def get_model_0():\n",
    "    #functional model\n",
    "    inp = Input(shape=(maxlen,))\n",
    "    nb_words = min(maxFeatures, len(word_index))\n",
    "    f = Embedding(input_dim = nb_words, output_dim = outDim)(inp)\n",
    "    #x = concatenate([f, g])\n",
    "    \n",
    "    x = SpatialDropout1D(0.2)(f)\n",
    "    x = Bidirectional(GRU(64, return_sequences=True))(x)\n",
    "    x = SpatialDropout1D(0.1)(x)\n",
    "    x = Bidirectional(GRU(32, return_sequences=True))(x)\n",
    "    #x = Attention(MAX_SEQUENCE_LENGTH)(x)\n",
    "    avg_pool = GlobalAveragePooling1D()(x)\n",
    "    max_pool = GlobalMaxPooling1D()(x)\n",
    "    conc = concatenate([avg_pool, max_pool])\n",
    "    #x = Dense(128, activation='relu')(conc)\n",
    "    #x = TimeDistributed(Dense(64, activation='tanh'))(conc)\n",
    "    x = Dense(64, activation='relu')(conc)\n",
    "    x = Dense(32, activation='relu')(x)\n",
    "    outp = Dense(6, activation=\"sigmoid\")(x)\n",
    "\n",
    "    model = Model(inputs=inp, outputs=outp)\n",
    "    model.summary()\n",
    "    model.compile(loss='binary_crossentropy',\n",
    "                  optimizer='adam',\n",
    "                  metrics=['accuracy'])\n",
    "\n",
    "    return model"
   ]
  },
  {
   "cell_type": "markdown",
   "metadata": {},
   "source": [
    "## 实验二 预训练词向量+bigru+conv1D+PRelu "
   ]
  },
  {
   "cell_type": "code",
   "execution_count": 14,
   "metadata": {},
   "outputs": [],
   "source": [
    "def get_model(n_recurrent=50, n_filters=50, dropout_rate=0.2, l2_penalty=0.0001):\n",
    "    K.clear_session()\n",
    "\n",
    "    def conc_pooling(x):\n",
    "        x_avg = GlobalAveragePooling1D()(x)\n",
    "        x_max = GlobalMaxPooling1D()(x)\n",
    "        return concatenate([x_avg, x_max])\n",
    "\n",
    "    inputs = Input(shape=(maxlen,))\n",
    "    nb_words = min(maxFeatures, len(word_index))\n",
    "    \n",
    "    emb = Embedding(nb_words, outDim, \n",
    "                    weights=[embedding_matix_f], trainable=False)(inputs)\n",
    "    x0 = SpatialDropout1D(dropout_rate)(emb)\n",
    "    \n",
    "    x0 = Bidirectional(GRU(n_recurrent, return_sequences=True,\n",
    "                 kernel_regularizer=l2(l2_penalty),\n",
    "                 recurrent_regularizer=l2(l2_penalty)))(x0)\n",
    "    \n",
    "    x0 = Conv1D(n_filters, kernel_size=2)(x0)\n",
    "    x0 = PReLU()(x0)\n",
    "    x0 = conc_pooling(x0)\n",
    "\n",
    "    outputs = Dense(6, activation='sigmoid')(x0)\n",
    "    model = Model(inputs=inputs, outputs=outputs)\n",
    "    model.compile(loss='binary_crossentropy', optimizer='nadam')\n",
    "    return model"
   ]
  },
  {
   "cell_type": "markdown",
   "metadata": {},
   "source": [
    "## 实验三 两个实验二的模型叠加（预训练词向量+BIGRU+Conv1D+PReLU）"
   ]
  },
  {
   "cell_type": "code",
   "execution_count": 17,
   "metadata": {},
   "outputs": [],
   "source": [
    "def get_model_2(n_recurrent=50, n_filters=50, dropout_rate=0.2, l2_penalty=0.0001):\n",
    "    K.clear_session()\n",
    "\n",
    "    def conc_pooling(x):\n",
    "        #x_att = AttentionWithContext()(x)\n",
    "        x_avg = GlobalAveragePooling1D()(x)\n",
    "        x_max = GlobalMaxPooling1D()(x)\n",
    "        #return concatenate([x_att, x_avg, x_max])\n",
    "        return concatenate([x_avg, x_max])\n",
    "\n",
    "    inputs = Input(shape=(maxlen,))\n",
    "    nb_words = min(maxFeatures, len(word_index))\n",
    "    #print('Features: ', maxFeatures, '...', len(word_index))\n",
    "    \n",
    "    emb = Embedding(nb_words, outDim, \n",
    "                    weights=[embedding_matix_f], trainable=False)(inputs)\n",
    "    \"\"\"\n",
    "    emb_g = Embedding(nb_words, outDim, \n",
    "                    weights=[embedding_matix_g], trainable=False)(inputs)\n",
    "    \"\"\"\n",
    "    \n",
    "    # model 0\n",
    "    x0 = SpatialDropout1D(dropout_rate)(emb)\n",
    "    \n",
    "    x0 = Bidirectional(GRU(n_recurrent, return_sequences=True,\n",
    "                 kernel_regularizer=l2(l2_penalty),\n",
    "                 recurrent_regularizer=l2(l2_penalty)))(x0)\n",
    "    \n",
    "    x0 = Conv1D(n_filters, kernel_size=3)(x0)\n",
    "    x0 = PReLU()(x0)\n",
    "    x0 = conc_pooling(x0)\n",
    "\n",
    "\n",
    "    # model 1\n",
    "    x1 = SpatialDropout1D(dropout_rate)(emb)\n",
    "    x1 = Bidirectional(GRU(2*n_recurrent, return_sequences=True,\n",
    "                 kernel_regularizer=l2(l2_penalty),\n",
    "                 recurrent_regularizer=l2(l2_penalty)))(x1)\n",
    "    x1 = Conv1D(2*n_filters, kernel_size=2)(x1)\n",
    "    x1 = PReLU()(x1)\n",
    "    x1 = conc_pooling(x1)\n",
    "\n",
    "    # combine it all\n",
    "    x = concatenate([x0, x1])\n",
    "    outputs = Dense(6, activation='sigmoid')(x)\n",
    "    model = Model(inputs=inputs, outputs=outputs)\n",
    "    model.compile(loss='binary_crossentropy', optimizer='nadam')\n",
    "    return model"
   ]
  },
  {
   "cell_type": "code",
   "execution_count": 18,
   "metadata": {},
   "outputs": [],
   "source": [
    "checkpointer = ModelCheckpoint(filepath='save_models/weights.best.02.hdf5', \n",
    "                               verbose=2, save_best_only=True)\n",
    "earlyStopping = EarlyStopping(monitor='val_loss', patience = 5)\n",
    "\n",
    "embed_model = get_model_2(n_recurrent=80, \n",
    "                        n_filters=95, \n",
    "                        dropout_rate=0.1405, \n",
    "                        l2_penalty=0.0001)"
   ]
  },
  {
   "cell_type": "code",
   "execution_count": null,
   "metadata": {},
   "outputs": [],
   "source": [
    "# Verbosity mode: 0 = silent, 1 = # progress bar, 2 = one line per epoch.\n",
    "import sys\n",
    "sys.stdout = open('toxic_comment_training.txt', 'w')\n",
    "time_fit_start = time.time()\n",
    "history = embed_model.fit(d_train, l_train, validation_data=(d_valid, l_valid), epochs=120, batch_size=35, callbacks=[checkpointer, earlyStopping], verbose=2)\n",
    "sys.stdout = sys.__stdout__\n",
    "time_fit_end = time.time()\n",
    "print(\"It costs \", time_fit_end - time_fit_start, \"to train and test!\")"
   ]
  },
  {
   "cell_type": "code",
   "execution_count": 35,
   "metadata": {},
   "outputs": [
    {
     "data": {
      "image/png": "[encoded data removed]",
      "text/plain": [
       "<Figure size 432x288 with 1 Axes>"
      ]
     },
     "metadata": {
      "needs_background": "light"
     },
     "output_type": "display_data"
    }
   ],
   "source": [
    "import cv2                \n",
    "import matplotlib.pyplot as plt                        \n",
    "%matplotlib inline \n",
    "\"\"\"\n",
    "print(history.history.keys())\n",
    "plt.plot(history.history['acc'])\n",
    "plt.plot(history.history['val_acc'])\n",
    "plt.title('model accuracy')\n",
    "plt.ylabel('accuracy')\n",
    "plt.xlabel('epoch')\n",
    "plt.legend(['train','test'], loc='upper left')\n",
    "plt.show()\n",
    "\"\"\"\n",
    "plt.plot(history.history['loss'])\n",
    "plt.plot(history.history['val_loss'])\n",
    "plt.title('model loss')\n",
    "plt.ylabel('loss')\n",
    "plt.xlabel('epoch')\n",
    "plt.legend(['train', 'test'], loc='upper left')\n",
    "plt.show()"
   ]
  },
  {
   "cell_type": "markdown",
   "metadata": {},
   "source": [
    "以上实验，效果最好的是实验三，最终AUC的值能达到0.9848左右，目前还没调参达到更高的AUC的值。从结果上看也没有过拟合或者欠拟合。"
   ]
  },
  {
   "cell_type": "markdown",
   "metadata": {},
   "source": [
    "### 实验四 embbedding 使用的(concatenate fasttext glove twitter)\n",
    "### Embbedding+dropout+bigru+bigru+AveragePooling+MaxPolling+Dense"
   ]
  },
  {
   "cell_type": "code",
   "execution_count": 21,
   "metadata": {},
   "outputs": [],
   "source": [
    "def get_model_5(features,cv=1.,num_filters=80,dropout=0.65,embed_size=501):\n",
    "    features_input = Input(shape=(features.shape[1],))\n",
    "    inp = Input(shape=(maxlen, ))\n",
    "    \n",
    "    # concatenated fasttext and glove twitter embeddings.\n",
    "    x = Embedding(max_features, embed_size, weights=[embedding_matrix], trainable=False)(inp)\n",
    "    \n",
    "    x = SpatialDropout1D(dropout)(x)\n",
    "    \n",
    "    x = Bidirectional(GRU(num_filters, return_sequences=True))(x)\n",
    "\n",
    "    x, x_h, x_c = Bidirectional(GRU(num_filters, return_sequences=True, return_state = True))(x)  \n",
    "    \n",
    "    avg_pool = GlobalAveragePooling1D()(x)\n",
    "    max_pool = GlobalMaxPooling1D()(x)\n",
    "    # concatenation of the last state, maximum pool, average pool and \n",
    "    # two features: \"Unique words rate\" and \"Rate of all-caps words\"    \n",
    "    x = concatenate([avg_pool, x_h, max_pool,features_input])\n",
    "\n",
    "    outp = Dense(6, activation=\"sigmoid\")(x)\n",
    "\n",
    "    model = Model(inputs=[inp,features_input], outputs=outp)\n",
    "    adam = optimizers.adam(clipvalue=cv)\n",
    "    model.compile(loss='binary_crossentropy',\n",
    "                  optimizer=adam,\n",
    "                  metrics=['accuracy'])\n",
    "    return model"
   ]
  },
  {
   "cell_type": "code",
   "execution_count": 23,
   "metadata": {},
   "outputs": [
    {
     "name": "stdout",
     "output_type": "stream",
     "text": [
      "__________________________________________________________________________________________________\n",
      "Layer (type)                    Output Shape         Param #     Connected to                     \n",
      "==================================================================================================\n",
      "input_2 (InputLayer)            (None, 150)          0                                            \n",
      "__________________________________________________________________________________________________\n",
      "embedding_1 (Embedding)         (None, 150, 501)     10020000    input_2[0][0]                    \n",
      "__________________________________________________________________________________________________\n",
      "spatial_dropout1d_1 (SpatialDro (None, 150, 501)     0           embedding_1[0][0]                \n",
      "__________________________________________________________________________________________________\n",
      "bidirectional_1 (Bidirectional) (None, 150, 160)     279360      spatial_dropout1d_1[0][0]        \n",
      "__________________________________________________________________________________________________\n",
      "bidirectional_2 (Bidirectional) [(None, 150, 160), ( 115680      bidirectional_1[0][0]            \n",
      "__________________________________________________________________________________________________\n",
      "global_average_pooling1d_1 (Glo (None, 160)          0           bidirectional_2[0][0]            \n",
      "__________________________________________________________________________________________________\n",
      "global_max_pooling1d_1 (GlobalM (None, 160)          0           bidirectional_2[0][0]            \n",
      "__________________________________________________________________________________________________\n",
      "input_1 (InputLayer)            (None, 2)            0                                            \n",
      "__________________________________________________________________________________________________\n",
      "concatenate_1 (Concatenate)     (None, 402)          0           global_average_pooling1d_1[0][0] \n",
      "                                                                 bidirectional_2[0][1]            \n",
      "                                                                 global_max_pooling1d_1[0][0]     \n",
      "                                                                 input_1[0][0]                    \n",
      "__________________________________________________________________________________________________\n",
      "dense_1 (Dense)                 (None, 6)            2418        concatenate_1[0][0]              \n",
      "==================================================================================================\n",
      "Total params: 10,417,458\n",
      "Trainable params: 397,458\n",
      "Non-trainable params: 10,020,000\n",
      "__________________________________________________________________________________________________\n",
      "None\n"
     ]
    }
   ],
   "source": [
    "model = get_model_5(features)\n",
    "print(model.summary())\n",
    "\n",
    "import cv2                \n",
    "import matplotlib.pyplot as plt \n",
    "from keras.callbacks import ModelCheckpoint\n",
    "%matplotlib inline \n",
    "\n",
    "def paintLoss(history):\n",
    "    print(history.history.keys())\n",
    "    plt.plot(history.history['acc'])\n",
    "    plt.plot(history.history['val_acc'])\n",
    "    plt.title('model accuracy')\n",
    "    plt.ylabel('accuracy')\n",
    "    plt.xlabel('epoch')\n",
    "    plt.legend(['train','test'], loc='upper left')\n",
    "    plt.show()\n",
    "\n",
    "    plt.plot(history.history['loss'])\n",
    "    plt.plot(history.history['val_loss'])\n",
    "    plt.title('model loss')\n",
    "    plt.ylabel('loss')\n",
    "    plt.xlabel('epoch')\n",
    "    plt.legend(['train', 'test'], loc='upper left')\n",
    "    plt.show()\n"
   ]
  },
  {
   "cell_type": "code",
   "execution_count": null,
   "metadata": {},
   "outputs": [
    {
     "name": "stdout",
     "output_type": "stream",
     "text": [
      "Epoch 1/20\n"
     ]
    }
   ],
   "source": [
    "batch_size = 64\n",
    "epochs = 20\n",
    "gc.collect()\n",
    "K.clear_session()\n",
    "\n",
    "num_folds = 6 #number of folds\n",
    "\n",
    "predict = np.zeros((test_data.shape[0],6))\n",
    "scores = []\n",
    "oof_predict = np.zeros((train_data.shape[0],6))\n",
    "\n",
    "kf = KFold(n_splits=num_folds, shuffle=True, random_state=randomC)\n",
    "\n",
    "for train_index, test_index in kf.split(x_train):\n",
    "    \n",
    "    kfold_y_train,kfold_y_test = y_train[train_index], y_train[test_index]\n",
    "    kfold_X_train = x_train[train_index]\n",
    "    kfold_X_features = features[train_index]\n",
    "    kfold_X_valid = x_train[test_index]\n",
    "    kfold_X_valid_features = features[test_index] \n",
    "    \n",
    "    gc.collect()\n",
    "    K.clear_session()\n",
    "    \n",
    "    model = get_model_5(features)\n",
    "    \n",
    "    ra_val = RocAucEvaluation(validation_data=([kfold_X_valid,kfold_X_valid_features], kfold_y_test), interval = 1)\n",
    "    \n",
    "    history = model.fit([kfold_X_train,kfold_X_features], kfold_y_train, batch_size=batch_size, epochs=epochs, verbose=2,\n",
    "             callbacks = [ra_val])\n",
    "    gc.collect()\n",
    "    \n",
    "    model.load_weights(\"best_weights.h5\")\n",
    "    \n",
    "    predict += model.predict([x_test,test_features], batch_size=batch_size,verbose=1) / num_folds\n",
    "    \n",
    "    gc.collect()\n",
    "    # uncomment for out of fold predictions\n",
    "    oof_predict[test_index] = model.predict([kfold_X_valid, kfold_X_valid_features],batch_size=batch_size, verbose=2)\n",
    "    cv_score = roc_auc_score(kfold_y_test, oof_predict[test_index])\n",
    "    \n",
    "    scores.append(cv_score)\n",
    "    print('score: ',cv_score)\n",
    "    paintLoss(history)\n",
    "\n",
    "print(\"The End.\")\n",
    " \n",
    "sample_submission = pd.read_csv(\"data/sample_submission.csv\")\n",
    "sample_submission[class_names] = predict\n",
    "sample_submission.to_csv('test_submission_model5.csv',index=False)\n"
   ]
  },
  {
   "cell_type": "code",
   "execution_count": null,
   "metadata": {},
   "outputs": [],
   "source": []
  }
 ],
 "metadata": {
  "anaconda-cloud": {},
  "kernelspec": {
   "display_name": "Python 3",
   "language": "python",
   "name": "python3"
  },
  "language_info": {
   "codemirror_mode": {
    "name": "ipython",
    "version": 3
   },
   "file_extension": ".py",
   "mimetype": "text/x-python",
   "name": "python",
   "nbconvert_exporter": "python",
   "pygments_lexer": "ipython3",
   "version": "3.6.7"
  }
 },
 "nbformat": 4,
 "nbformat_minor": 2
}
